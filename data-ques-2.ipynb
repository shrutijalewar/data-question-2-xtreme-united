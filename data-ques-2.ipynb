{
 "cells": [
  {
   "cell_type": "code",
   "execution_count": 3,
   "metadata": {
    "collapsed": true
   },
   "outputs": [],
   "source": [
    "import pandas as pd "
   ]
  },
  {
   "cell_type": "code",
   "execution_count": 27,
   "metadata": {},
   "outputs": [
    {
     "data": {
      "text/html": [
       "<div>\n",
       "<style>\n",
       "    .dataframe thead tr:only-child th {\n",
       "        text-align: right;\n",
       "    }\n",
       "\n",
       "    .dataframe thead th {\n",
       "        text-align: left;\n",
       "    }\n",
       "\n",
       "    .dataframe tbody tr th {\n",
       "        vertical-align: top;\n",
       "    }\n",
       "</style>\n",
       "<table border=\"1\" class=\"dataframe\">\n",
       "  <thead>\n",
       "    <tr style=\"text-align: right;\">\n",
       "      <th></th>\n",
       "      <th>VIOLATION_ID</th>\n",
       "      <th>ORG_ID</th>\n",
       "      <th>VIOLATION_TYPE</th>\n",
       "      <th>VIOLATION_DESC</th>\n",
       "      <th>VIOLATION_TEXT</th>\n",
       "      <th>REMEDIAL_TEXT</th>\n",
       "      <th>TABLE_NAME</th>\n",
       "      <th>EXPIRED_FLAG</th>\n",
       "      <th>DATE_EXPIRED</th>\n",
       "      <th>CREATED_BY</th>\n",
       "      <th>DATE_CREATED</th>\n",
       "      <th>MODIFIED_BY</th>\n",
       "      <th>DATE_MODIFIED</th>\n",
       "      <th>FEE_SETUP_ID</th>\n",
       "      <th>Unnamed: 14</th>\n",
       "    </tr>\n",
       "  </thead>\n",
       "  <tbody>\n",
       "    <tr>\n",
       "      <th>0</th>\n",
       "      <td>1</td>\n",
       "      <td>1</td>\n",
       "      <td>BANNERS</td>\n",
       "      <td>Banners</td>\n",
       "      <td>Section 17.32.060 &amp; 17.32.070 -  Banners: Bann...</td>\n",
       "      <td>CAAZ_BANNERS</td>\n",
       "      <td>NaT</td>\n",
       "      <td>N</td>\n",
       "      <td>NaN</td>\n",
       "      <td>1.0</td>\n",
       "      <td>2014-07-09 08:03:52.640000</td>\n",
       "      <td>NaN</td>\n",
       "      <td>NaT</td>\n",
       "      <td>NaN</td>\n",
       "      <td>NaN</td>\n",
       "    </tr>\n",
       "    <tr>\n",
       "      <th>1</th>\n",
       "      <td>2</td>\n",
       "      <td>1</td>\n",
       "      <td>BGMATOWNER</td>\n",
       "      <td>Proper Maintenance Req - Owner</td>\n",
       "      <td>Section 16.16.030 (B) - Proper maintenance req...</td>\n",
       "      <td>CAAH_BG_MATOWNER</td>\n",
       "      <td>NaT</td>\n",
       "      <td>N</td>\n",
       "      <td>NaN</td>\n",
       "      <td>1.0</td>\n",
       "      <td>2014-07-09 08:03:52.640000</td>\n",
       "      <td>NaN</td>\n",
       "      <td>NaT</td>\n",
       "      <td>NaN</td>\n",
       "      <td>NaN</td>\n",
       "    </tr>\n",
       "    <tr>\n",
       "      <th>2</th>\n",
       "      <td>4</td>\n",
       "      <td>1</td>\n",
       "      <td>BLDGMAINT</td>\n",
       "      <td>Proper Maintenance Req</td>\n",
       "      <td>Section 16.16.030 (A) - Proper maintenance req...</td>\n",
       "      <td>CAAH_BLDG_MAINT</td>\n",
       "      <td>NaT</td>\n",
       "      <td>N</td>\n",
       "      <td>NaN</td>\n",
       "      <td>1.0</td>\n",
       "      <td>2014-07-09 08:03:52.640000</td>\n",
       "      <td>NaN</td>\n",
       "      <td>NaT</td>\n",
       "      <td>NaN</td>\n",
       "      <td>NaN</td>\n",
       "    </tr>\n",
       "    <tr>\n",
       "      <th>3</th>\n",
       "      <td>5</td>\n",
       "      <td>1</td>\n",
       "      <td>BLDGPERMIT</td>\n",
       "      <td>Building Permit Required</td>\n",
       "      <td>Section 16.28.010 - Building Permit Required: ...</td>\n",
       "      <td>CAAB_BLDG_PERMIT</td>\n",
       "      <td>NaT</td>\n",
       "      <td>N</td>\n",
       "      <td>NaN</td>\n",
       "      <td>1.0</td>\n",
       "      <td>2014-07-09 08:03:52.640000</td>\n",
       "      <td>NaN</td>\n",
       "      <td>NaT</td>\n",
       "      <td>NaN</td>\n",
       "      <td>NaN</td>\n",
       "    </tr>\n",
       "    <tr>\n",
       "      <th>4</th>\n",
       "      <td>6</td>\n",
       "      <td>1</td>\n",
       "      <td>BLDGSCOPE</td>\n",
       "      <td>Scope of Building Code</td>\n",
       "      <td>Section 16.16.020 (B) - The provisions of this...</td>\n",
       "      <td>CAAH_BLDG_SCOPE</td>\n",
       "      <td>NaT</td>\n",
       "      <td>N</td>\n",
       "      <td>NaN</td>\n",
       "      <td>1.0</td>\n",
       "      <td>2014-07-09 08:03:52.640000</td>\n",
       "      <td>NaN</td>\n",
       "      <td>NaT</td>\n",
       "      <td>NaN</td>\n",
       "      <td>NaN</td>\n",
       "    </tr>\n",
       "  </tbody>\n",
       "</table>\n",
       "</div>"
      ],
      "text/plain": [
       "  VIOLATION_ID ORG_ID VIOLATION_TYPE                  VIOLATION_DESC  \\\n",
       "0            1      1        BANNERS                         Banners   \n",
       "1            2      1     BGMATOWNER  Proper Maintenance Req - Owner   \n",
       "2            4      1      BLDGMAINT          Proper Maintenance Req   \n",
       "3            5      1     BLDGPERMIT        Building Permit Required   \n",
       "4            6      1      BLDGSCOPE          Scope of Building Code   \n",
       "\n",
       "                                      VIOLATION_TEXT     REMEDIAL_TEXT  \\\n",
       "0  Section 17.32.060 & 17.32.070 -  Banners: Bann...      CAAZ_BANNERS   \n",
       "1  Section 16.16.030 (B) - Proper maintenance req...  CAAH_BG_MATOWNER   \n",
       "2  Section 16.16.030 (A) - Proper maintenance req...   CAAH_BLDG_MAINT   \n",
       "3  Section 16.28.010 - Building Permit Required: ...  CAAB_BLDG_PERMIT   \n",
       "4  Section 16.16.020 (B) - The provisions of this...   CAAH_BLDG_SCOPE   \n",
       "\n",
       "  TABLE_NAME EXPIRED_FLAG DATE_EXPIRED  CREATED_BY  \\\n",
       "0        NaT            N          NaN         1.0   \n",
       "1        NaT            N          NaN         1.0   \n",
       "2        NaT            N          NaN         1.0   \n",
       "3        NaT            N          NaN         1.0   \n",
       "4        NaT            N          NaN         1.0   \n",
       "\n",
       "                 DATE_CREATED MODIFIED_BY DATE_MODIFIED  FEE_SETUP_ID  \\\n",
       "0  2014-07-09 08:03:52.640000         NaN           NaT           NaN   \n",
       "1  2014-07-09 08:03:52.640000         NaN           NaT           NaN   \n",
       "2  2014-07-09 08:03:52.640000         NaN           NaT           NaN   \n",
       "3  2014-07-09 08:03:52.640000         NaN           NaT           NaN   \n",
       "4  2014-07-09 08:03:52.640000         NaN           NaT           NaN   \n",
       "\n",
       "   Unnamed: 14  \n",
       "0          NaN  \n",
       "1          NaN  \n",
       "2          NaN  \n",
       "3          NaN  \n",
       "4          NaN  "
      ]
     },
     "execution_count": 27,
     "metadata": {},
     "output_type": "execute_result"
    }
   ],
   "source": [
    "violations = pd.read_excel('Codes_List_of_Violations_08152017.xlsx')\n",
    "violations.head()"
   ]
  },
  {
   "cell_type": "code",
   "execution_count": 28,
   "metadata": {},
   "outputs": [
    {
     "name": "stdout",
     "output_type": "stream",
     "text": [
      "                                          VIOLATION_ID ORG_ID VIOLATION_TYPE  \\\n",
      "896                                                947      1          BBR15   \n",
      "897                          A.   Department of Health    NaN            NaN   \n",
      "898                         B.   Fire Marshal Approval    NaN            NaN   \n",
      "899  C.   Certificate of Registration or Tax Exempt...    NaN            NaN   \n",
      "900  D.  Letter from charitable organization (only ...    NaN            NaN   \n",
      "901  E.   Letter of permission to use the Property ...    NaN            NaN   \n",
      "902  F.   Present verifiable proof of proper security.    NaN            NaN   \n",
      "903                                                948      1          BBR16   \n",
      "904                                                949      1          BBR17   \n",
      "\n",
      "                VIOLATION_DESC  \\\n",
      "896    Special Event Approvals   \n",
      "897                        NaN   \n",
      "898                        NaN   \n",
      "899                        NaN   \n",
      "900                        NaN   \n",
      "901                        NaN   \n",
      "902                          N   \n",
      "903     Payment Types Accepted   \n",
      "904  Crimes of moral turpitude   \n",
      "\n",
      "                                        VIOLATION_TEXT REMEDIAL_TEXT  \\\n",
      "896  When applying for a special event permit, appl...           NaN   \n",
      "897                                                NaN           NaN   \n",
      "898                                                NaN           NaN   \n",
      "899                                                NaN           NaN   \n",
      "900                                                NaN           NaN   \n",
      "901                                                NaN           NaN   \n",
      "902                                                NaN         10635   \n",
      "903  All application fees for beer permits and beer...           NaN   \n",
      "904  The Metropolitan Beer Permit Board recognizes ...           NaN   \n",
      "\n",
      "                 TABLE_NAME EXPIRED_FLAG DATE_EXPIRED  CREATED_BY  \\\n",
      "896                     NaT          NaN          NaN         NaN   \n",
      "897                     NaT          NaN          NaN         NaN   \n",
      "898                     NaT          NaN          NaN         NaN   \n",
      "899                     NaT          NaN          NaN         NaN   \n",
      "900                     NaT          NaN          NaN         NaN   \n",
      "901                     NaT          NaN          NaN         NaN   \n",
      "902 2017-05-19 13:00:46.340          NaN          NaN         NaN   \n",
      "903                     NaT            N          NaN     10635.0   \n",
      "904                     NaT          NaN          NaN         NaN   \n",
      "\n",
      "                   DATE_CREATED MODIFIED_BY DATE_MODIFIED  FEE_SETUP_ID  \\\n",
      "896                         NaN         NaN           NaT           NaN   \n",
      "897                         NaN         NaN           NaT           NaN   \n",
      "898                         NaN         NaN           NaT           NaN   \n",
      "899                         NaN         NaN           NaT           NaN   \n",
      "900                         NaN         NaN           NaT           NaN   \n",
      "901                         NaN         NaN           NaT           NaN   \n",
      "902                         NaN         NaN           NaT           NaN   \n",
      "903  2017-05-19 13:01:37.120000         NaN           NaT           NaN   \n",
      "904                         NaN         NaN           NaT           NaN   \n",
      "\n",
      "     Unnamed: 14  \n",
      "896          NaN  \n",
      "897          NaN  \n",
      "898          NaN  \n",
      "899          NaN  \n",
      "900          NaN  \n",
      "901          NaN  \n",
      "902          NaN  \n",
      "903          NaN  \n",
      "904          NaN  \n"
     ]
    }
   ],
   "source": [
    "print(violations[896:905])"
   ]
  },
  {
   "cell_type": "code",
   "execution_count": 29,
   "metadata": {},
   "outputs": [
    {
     "name": "stdout",
     "output_type": "stream",
     "text": [
      "When applying for a special event permit, applicant must submit approval for the proposed event in writing from:A.   Department of HealthB.   Fire Marshal ApprovalC.   Certificate of Registration or Tax Exempt Letter from Charity or Non-profit        organizations D.  Letter from charitable organization (only if event is held on public property and applicant is not a charity, non-profit or political organization – see Rule 8)  E.   Letter of permission to use the Property  (From property owner, Parks Department, Public Works, etc.)F.   Present verifiable proof of proper security.\n"
     ]
    }
   ],
   "source": [
    "a = (str(violations.iloc[896,4])+ str(violations.iloc[897,0])+str(violations.iloc[898,0])\n",
    "      +str(violations.iloc[899,0])+str(violations.iloc[900,0])+str(violations.iloc[901,0])+str(violations.iloc[902,0]))\n",
    "# print(a)\n",
    "violations.iloc[896,4] = a\n",
    "print(violations.iloc[896,4])\n"
   ]
  },
  {
   "cell_type": "code",
   "execution_count": 32,
   "metadata": {},
   "outputs": [
    {
     "name": "stdout",
     "output_type": "stream",
     "text": [
      "                                      VIOLATION_TEXT  Unnamed: 14\n",
      "0  Section 17.32.060 & 17.32.070 -  Banners: Bann...          NaN\n",
      "1  Section 16.16.030 (B) - Proper maintenance req...          NaN\n",
      "2  Section 16.16.030 (A) - Proper maintenance req...          NaN\n",
      "3  Section 16.28.010 - Building Permit Required: ...          NaN\n",
      "4  Section 16.16.020 (B) - The provisions of this...          NaN\n",
      "<class 'pandas.core.frame.DataFrame'>\n",
      "RangeIndex: 934 entries, 0 to 933\n",
      "Data columns (total 2 columns):\n",
      "VIOLATION_TEXT    666 non-null object\n",
      "Unnamed: 14       0 non-null float64\n",
      "dtypes: float64(1), object(1)\n",
      "memory usage: 14.7+ KB\n",
      "None\n"
     ]
    }
   ],
   "source": [
    "violation_sub = violations.drop(['VIOLATION_TYPE','VIOLATION_DESC','REMEDIAL_TEXT','EXPIRED_FLAG', 'DATE_EXPIRED',  'CREATED_BY','TABLE_NAME','DATE_CREATED','ORG_ID','MODIFIED_BY', 'DATE_MODIFIED','FEE_SETUP_ID'], 1)\n",
    "violation_sub.set_index('VIOLATION_ID')\n",
    "violation_sub2 = violation_sub.drop('VIOLATION_ID',1)\n",
    "print(violation_sub2.head())\n",
    "print(violation_sub2.info())"
   ]
  },
  {
   "cell_type": "code",
   "execution_count": 36,
   "metadata": {},
   "outputs": [
    {
     "name": "stdout",
     "output_type": "stream",
     "text": [
      "0       True\n",
      "1      False\n",
      "2      False\n",
      "3      False\n",
      "4      False\n",
      "5      False\n",
      "6      False\n",
      "7      False\n",
      "8       True\n",
      "9      False\n",
      "10      True\n",
      "11      True\n",
      "12      True\n",
      "13      True\n",
      "14     False\n",
      "15       NaN\n",
      "16     False\n",
      "17     False\n",
      "18     False\n",
      "19     False\n",
      "20     False\n",
      "21     False\n",
      "22     False\n",
      "23     False\n",
      "24     False\n",
      "25     False\n",
      "26     False\n",
      "27     False\n",
      "28     False\n",
      "29     False\n",
      "       ...  \n",
      "904    False\n",
      "905      NaN\n",
      "906    False\n",
      "907    False\n",
      "908      NaN\n",
      "909    False\n",
      "910    False\n",
      "911    False\n",
      "912    False\n",
      "913      NaN\n",
      "914      NaN\n",
      "915    False\n",
      "916    False\n",
      "917      NaN\n",
      "918    False\n",
      "919      NaN\n",
      "920      NaN\n",
      "921    False\n",
      "922    False\n",
      "923    False\n",
      "924      NaN\n",
      "925    False\n",
      "926    False\n",
      "927    False\n",
      "928    False\n",
      "929    False\n",
      "930    False\n",
      "931      NaN\n",
      "932    False\n",
      "933    False\n",
      "Name: VIOLATION_TEXT, Length: 934, dtype: object\n"
     ]
    },
    {
     "data": {
      "text/plain": [
       "0       True\n",
       "1      False\n",
       "2      False\n",
       "3      False\n",
       "4      False\n",
       "5      False\n",
       "6      False\n",
       "7      False\n",
       "8       True\n",
       "9      False\n",
       "10      True\n",
       "11      True\n",
       "12      True\n",
       "13      True\n",
       "14     False\n",
       "15       NaN\n",
       "16     False\n",
       "17     False\n",
       "18     False\n",
       "19     False\n",
       "20     False\n",
       "21     False\n",
       "22     False\n",
       "23     False\n",
       "24     False\n",
       "25     False\n",
       "26     False\n",
       "27     False\n",
       "28     False\n",
       "29     False\n",
       "       ...  \n",
       "904    False\n",
       "905      NaN\n",
       "906    False\n",
       "907    False\n",
       "908      NaN\n",
       "909    False\n",
       "910    False\n",
       "911    False\n",
       "912    False\n",
       "913      NaN\n",
       "914      NaN\n",
       "915    False\n",
       "916    False\n",
       "917      NaN\n",
       "918    False\n",
       "919      NaN\n",
       "920      NaN\n",
       "921    False\n",
       "922    False\n",
       "923    False\n",
       "924      NaN\n",
       "925    False\n",
       "926    False\n",
       "927    False\n",
       "928    False\n",
       "929    False\n",
       "930    False\n",
       "931      NaN\n",
       "932    False\n",
       "933    False\n",
       "Name: VIOLATION_TEXT, Length: 934, dtype: object"
      ]
     },
     "execution_count": 36,
     "metadata": {},
     "output_type": "execute_result"
    }
   ],
   "source": [
    "print(violation_sub2['VIOLATION_TEXT'].str.contains(str('17.')))\n",
    "violation_sub2['VIOLATION_TEXT'].str.contains(str('17.'))\n"
   ]
  },
  {
   "cell_type": "code",
   "execution_count": 58,
   "metadata": {},
   "outputs": [
    {
     "name": "stdout",
     "output_type": "stream",
     "text": [
      "VIOLATION_TEXT    447\n",
      "Unnamed: 14         0\n",
      "dtype: int64\n"
     ]
    }
   ],
   "source": [
    "bool17 = violation_sub2['VIOLATION_TEXT'].str.contains(str('\\d{2}.\\d{2}.\\d{3}'))\n",
    "viol17_df = violation_sub2[bool17== True].count()\n",
    "print(viol17_df)"
   ]
  },
  {
   "cell_type": "code",
   "execution_count": 86,
   "metadata": {},
   "outputs": [
    {
     "name": "stdout",
     "output_type": "stream",
     "text": [
      "VIOLATION_TEXT    621\n",
      "Unnamed: 14         0\n",
      "dtype: int64\n"
     ]
    }
   ],
   "source": [
    "bool17 = violation_sub2['VIOLATION_TEXT'].str.contains(str('\\d{1,2}.\\d{1,3}.\\d{,3}'))\n",
    "viol18_df = violation_sub2[bool17== True].count()\n",
    "print(viol18_df)"
   ]
  },
  {
   "cell_type": "code",
   "execution_count": 60,
   "metadata": {},
   "outputs": [
    {
     "name": "stdout",
     "output_type": "stream",
     "text": [
      "                                        VIOLATION_TEXT  Unnamed: 14\n",
      "209                                        See SW Code          NaN\n",
      "210                                        See SW Code          NaN\n",
      "211                                        See SW Code          NaN\n",
      "212                                        See SW Code          NaN\n",
      "215  No trailer or watercraft shall be stored in th...          NaN\n",
      "460          -Replace substandard wiring (drop-cords).          NaN\n",
      "520                                             Other:          NaN\n",
      "583  -Properly extend the vents a minimum of 6” abo...          NaN\n",
      "630  -Repair exterior (brick veneer-stone) walls, r...          NaN\n",
      "648  -Overhaul windows; provide sound glass, sash, ...          NaN\n",
      "664  -Replace or repair all damaged interior walls,...          NaN\n",
      "674  -Raise and level floors; provide sound floor j...          NaN\n",
      "680  -Provide handrails for (stairway to basement; ...          NaN\n",
      "694  -Provide metal regulation garbage container wi...          NaN\n",
      "698  -Substantially repair (fences, sheds, garages)...          NaN\n",
      "702  -Remove (used lumber, debris, refrigerator, ab...          NaN\n",
      "704  -Remove all combustible materials -within ten ...          NaN\n",
      "706  The owner, party in interest, lessee, agent, o...          NaN\n",
      "883  All retail permittees shall conspicuously post...          NaN\n",
      "884  The Executive Secretary to the Metropolitan Be...          NaN\n",
      "885  An off-sale beer permittee shall sell beer onl...          NaN\n",
      "886  No person under 18 years of age shall transpor...          NaN\n",
      "887  Beer shall not be sold through any drive-throu...          NaN\n",
      "889  All applicants for beer permits must supply th...          NaN\n",
      "890  No permittee nor any of his/her agents shall d...          NaN\n",
      "891  In disciplinary proceedings, it shall be no de...          NaN\n",
      "892  When applying for an on or off-sale permit, al...          NaN\n",
      "893  All applicants for a permit of any kind relati...          NaN\n",
      "894  When ascertaining the age of a person purchasi...          NaN\n",
      "896  When applying for a special event permit, appl...          NaN\n",
      "903  All application fees for beer permits and beer...          NaN\n",
      "904  The Metropolitan Beer Permit Board recognizes ...          NaN\n",
      "906  Upon making application for a beer permit from...          NaN\n",
      "907  Upon making application for an on-sale beer pe...          NaN\n",
      "910  All complaints requested to be heard by the Me...          NaN\n",
      "911  An old location is any location that has had a...          NaN\n",
      "912                                            Rule 26          NaN\n",
      "915  A permit holder may not avoid a hearing or pro...          NaN\n",
      "916  Temporary permits shall not be issued by the E...          NaN\n",
      "921  No permittee shall expand the premises for whi...          NaN\n",
      "925  The beer board shall consider a permit holder'...          NaN\n",
      "926  For all purposes under the metropolitan beer l...          NaN\n",
      "929  Upon suspension of a beer permit, the permitte...          NaN\n",
      "930  If an application has not been granted or deni...          NaN\n",
      "932  A permit shall not be issued by the Executive ...          NaN\n"
     ]
    }
   ],
   "source": [
    "viol18_false = violation_sub2[bool17== False]\n",
    "print(viol18_false)"
   ]
  },
  {
   "cell_type": "code",
   "execution_count": 77,
   "metadata": {},
   "outputs": [
    {
     "name": "stdout",
     "output_type": "stream",
     "text": [
      "VIOLATION_TEXT    98\n",
      "Unnamed: 14        0\n",
      "dtype: int64\n"
     ]
    }
   ],
   "source": [
    "bool17 = violation_sub2['VIOLATION_TEXT'].str.contains(str('17.\\d{1,3}.\\d{,3}'))\n",
    "viol18_df = violation_sub2[bool17== True].count()\n",
    "print(viol18_df)"
   ]
  },
  {
   "cell_type": "code",
   "execution_count": 78,
   "metadata": {},
   "outputs": [
    {
     "name": "stdout",
     "output_type": "stream",
     "text": [
      "VIOLATION_TEXT    312\n",
      "Unnamed: 14         0\n",
      "dtype: int64\n"
     ]
    }
   ],
   "source": [
    "bool17 = violation_sub2['VIOLATION_TEXT'].str.contains(str('16.\\d{1,3}.\\d{,3}'))\n",
    "viol18_df = violation_sub2[bool17== True].count()\n",
    "print(viol18_df)"
   ]
  },
  {
   "cell_type": "code",
   "execution_count": 79,
   "metadata": {},
   "outputs": [
    {
     "name": "stdout",
     "output_type": "stream",
     "text": [
      "VIOLATION_TEXT    47\n",
      "Unnamed: 14        0\n",
      "dtype: int64\n"
     ]
    }
   ],
   "source": [
    "bool17 = violation_sub2['VIOLATION_TEXT'].str.contains(str('10.\\d{1,3}.\\d{,3}'))\n",
    "viol18_df = violation_sub2[bool17== True].count()\n",
    "print(viol18_df)"
   ]
  },
  {
   "cell_type": "code",
   "execution_count": 80,
   "metadata": {},
   "outputs": [
    {
     "name": "stdout",
     "output_type": "stream",
     "text": [
      "VIOLATION_TEXT    17\n",
      "Unnamed: 14        0\n",
      "dtype: int64\n"
     ]
    }
   ],
   "source": [
    "bool17 = violation_sub2['VIOLATION_TEXT'].str.contains(str('12.\\d{1,3}.\\d{,3}'))\n",
    "viol18_df = violation_sub2[bool17== True].count()\n",
    "print(viol18_df)"
   ]
  },
  {
   "cell_type": "code",
   "execution_count": 81,
   "metadata": {},
   "outputs": [
    {
     "name": "stdout",
     "output_type": "stream",
     "text": [
      "VIOLATION_TEXT    12\n",
      "Unnamed: 14        0\n",
      "dtype: int64\n"
     ]
    }
   ],
   "source": [
    "bool17 = violation_sub2['VIOLATION_TEXT'].str.contains(str('15.\\d{1,3}.\\d{,3}'))\n",
    "viol18_df = violation_sub2[bool17== True].count()\n",
    "print(viol18_df)"
   ]
  },
  {
   "cell_type": "code",
   "execution_count": 76,
   "metadata": {},
   "outputs": [
    {
     "name": "stdout",
     "output_type": "stream",
     "text": [
      "VIOLATION_TEXT    84\n",
      "Unnamed: 14        0\n",
      "dtype: int64\n"
     ]
    }
   ],
   "source": [
    "bool17 = violation_sub2['VIOLATION_TEXT'].str.contains(str('57.\\d{1,3}-\\d{,3}'))\n",
    "viol18_df = violation_sub2[bool17== True].count()\n",
    "print(viol18_df)"
   ]
  },
  {
   "cell_type": "code",
   "execution_count": 82,
   "metadata": {},
   "outputs": [
    {
     "name": "stdout",
     "output_type": "stream",
     "text": [
      "VIOLATION_TEXT    86\n",
      "Unnamed: 14        0\n",
      "dtype: int64\n"
     ]
    }
   ],
   "source": [
    "bool17 = violation_sub2['VIOLATION_TEXT'].str.contains(str('7.\\d{1,3}-\\d{,3}'))\n",
    "viol18_df = violation_sub2[bool17== True].count()\n",
    "print(viol18_df)"
   ]
  },
  {
   "cell_type": "code",
   "execution_count": 83,
   "metadata": {},
   "outputs": [
    {
     "name": "stdout",
     "output_type": "stream",
     "text": [
      "VIOLATION_TEXT    6\n",
      "Unnamed: 14       0\n",
      "dtype: int64\n"
     ]
    }
   ],
   "source": [
    "bool17 = violation_sub2['VIOLATION_TEXT'].str.contains(str('5.\\d{1,3}-\\d{,3}'))\n",
    "viol18_df = violation_sub2[bool17== True].count()\n",
    "print(viol18_df)"
   ]
  },
  {
   "cell_type": "code",
   "execution_count": 84,
   "metadata": {},
   "outputs": [
    {
     "name": "stdout",
     "output_type": "stream",
     "text": [
      "VIOLATION_TEXT    6\n",
      "Unnamed: 14       0\n",
      "dtype: int64\n"
     ]
    }
   ],
   "source": [
    "bool17 = violation_sub2['VIOLATION_TEXT'].str.contains(str('6.\\d{1,3}-\\d{,3}'))\n",
    "viol18_df = violation_sub2[bool17== True].count()\n",
    "print(viol18_df)"
   ]
  },
  {
   "cell_type": "code",
   "execution_count": 85,
   "metadata": {},
   "outputs": [
    {
     "name": "stdout",
     "output_type": "stream",
     "text": [
      "VIOLATION_TEXT    2\n",
      "Unnamed: 14       0\n",
      "dtype: int64\n"
     ]
    }
   ],
   "source": [
    "bool17 = violation_sub2['VIOLATION_TEXT'].str.contains(str('8.\\d{1,3}-\\d{,3}'))\n",
    "viol18_df = violation_sub2[bool17== True].count()\n",
    "print(viol18_df)"
   ]
  },
  {
   "cell_type": "code",
   "execution_count": null,
   "metadata": {
    "collapsed": true
   },
   "outputs": [],
   "source": []
  }
 ],
 "metadata": {
  "kernelspec": {
   "display_name": "Python 3",
   "language": "python",
   "name": "python3"
  },
  "language_info": {
   "codemirror_mode": {
    "name": "ipython",
    "version": 3
   },
   "file_extension": ".py",
   "mimetype": "text/x-python",
   "name": "python",
   "nbconvert_exporter": "python",
   "pygments_lexer": "ipython3",
   "version": "3.6.3"
  }
 },
 "nbformat": 4,
 "nbformat_minor": 2
}
