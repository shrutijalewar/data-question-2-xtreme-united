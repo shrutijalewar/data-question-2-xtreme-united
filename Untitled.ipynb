{
 "cells": [
  {
   "cell_type": "code",
   "execution_count": 5,
   "metadata": {
    "collapsed": true
   },
   "outputs": [],
   "source": [
    "import pandas as pd\n",
    "import matplotlib as mpl\n",
    "import numpy as np\n",
    "import matplotlib.pyplot as plt"
   ]
  },
  {
   "cell_type": "code",
   "execution_count": 9,
   "metadata": {
    "scrolled": true
   },
   "outputs": [
    {
     "data": {
      "text/html": [
       "<div>\n",
       "<style>\n",
       "    .dataframe thead tr:only-child th {\n",
       "        text-align: right;\n",
       "    }\n",
       "\n",
       "    .dataframe thead th {\n",
       "        text-align: left;\n",
       "    }\n",
       "\n",
       "    .dataframe tbody tr th {\n",
       "        vertical-align: top;\n",
       "    }\n",
       "</style>\n",
       "<table border=\"1\" class=\"dataframe\">\n",
       "  <thead>\n",
       "    <tr style=\"text-align: right;\">\n",
       "      <th></th>\n",
       "      <th>VIOLATION_DESC</th>\n",
       "      <th>VIOLATION_TEXT</th>\n",
       "    </tr>\n",
       "  </thead>\n",
       "  <tbody>\n",
       "    <tr>\n",
       "      <th>0</th>\n",
       "      <td>Banners</td>\n",
       "      <td>Section 17.32.060 &amp; 17.32.070 -  Banners: Bann...</td>\n",
       "    </tr>\n",
       "    <tr>\n",
       "      <th>1</th>\n",
       "      <td>Proper Maintenance Req - Owner</td>\n",
       "      <td>Section 16.16.030 (B) - Proper maintenance req...</td>\n",
       "    </tr>\n",
       "    <tr>\n",
       "      <th>2</th>\n",
       "      <td>Proper Maintenance Req</td>\n",
       "      <td>Section 16.16.030 (A) - Proper maintenance req...</td>\n",
       "    </tr>\n",
       "    <tr>\n",
       "      <th>3</th>\n",
       "      <td>Building Permit Required</td>\n",
       "      <td>Section 16.28.010 - Building Permit Required: ...</td>\n",
       "    </tr>\n",
       "    <tr>\n",
       "      <th>4</th>\n",
       "      <td>Scope of Building Code</td>\n",
       "      <td>Section 16.16.020 (B) - The provisions of this...</td>\n",
       "    </tr>\n",
       "    <tr>\n",
       "      <th>5</th>\n",
       "      <td>Boarding Requirements</td>\n",
       "      <td>Section 16.24.340 (U) (2) – Boarding of Vacant...</td>\n",
       "    </tr>\n",
       "    <tr>\n",
       "      <th>6</th>\n",
       "      <td>Boarding of Vacant Buildings</td>\n",
       "      <td>Section 16.24.340 (U) (1) – Boarding of Vacant...</td>\n",
       "    </tr>\n",
       "    <tr>\n",
       "      <th>7</th>\n",
       "      <td>Vehicle In The Right-Of-Way</td>\n",
       "      <td>Section 12.08.210 - Abandoned Vehicles: Abando...</td>\n",
       "    </tr>\n",
       "    <tr>\n",
       "      <th>8</th>\n",
       "      <td>Certificate of Compliance Required</td>\n",
       "      <td>Section 17.40.580 - Certificate of Compliance:...</td>\n",
       "    </tr>\n",
       "    <tr>\n",
       "      <th>9</th>\n",
       "      <td>Certificate of Occupancy Required</td>\n",
       "      <td>Section 16.24.130 – Certificate of Occupancy R...</td>\n",
       "    </tr>\n",
       "  </tbody>\n",
       "</table>\n",
       "</div>"
      ],
      "text/plain": [
       "                       VIOLATION_DESC  \\\n",
       "0                             Banners   \n",
       "1      Proper Maintenance Req - Owner   \n",
       "2              Proper Maintenance Req   \n",
       "3            Building Permit Required   \n",
       "4              Scope of Building Code   \n",
       "5               Boarding Requirements   \n",
       "6        Boarding of Vacant Buildings   \n",
       "7         Vehicle In The Right-Of-Way   \n",
       "8  Certificate of Compliance Required   \n",
       "9   Certificate of Occupancy Required   \n",
       "\n",
       "                                      VIOLATION_TEXT  \n",
       "0  Section 17.32.060 & 17.32.070 -  Banners: Bann...  \n",
       "1  Section 16.16.030 (B) - Proper maintenance req...  \n",
       "2  Section 16.16.030 (A) - Proper maintenance req...  \n",
       "3  Section 16.28.010 - Building Permit Required: ...  \n",
       "4  Section 16.16.020 (B) - The provisions of this...  \n",
       "5  Section 16.24.340 (U) (2) – Boarding of Vacant...  \n",
       "6  Section 16.24.340 (U) (1) – Boarding of Vacant...  \n",
       "7  Section 12.08.210 - Abandoned Vehicles: Abando...  \n",
       "8  Section 17.40.580 - Certificate of Compliance:...  \n",
       "9  Section 16.24.130 – Certificate of Occupancy R...  "
      ]
     },
     "execution_count": 9,
     "metadata": {},
     "output_type": "execute_result"
    }
   ],
   "source": [
    "violations = pd.read_excel('Codes_List_of_Violations2.xlsx')\n",
    "violations.head(10)\n"
   ]
  },
  {
   "cell_type": "code",
   "execution_count": 28,
   "metadata": {},
   "outputs": [
    {
     "name": "stdout",
     "output_type": "stream",
     "text": [
      "                15.0\n",
      "&                7.0\n",
      "(brick           1.0\n",
      "(doors)          2.0\n",
      "(drop-cords)     1.0\n",
      "(emission)       2.0\n",
      "(front           1.0\n",
      "(height)         2.0\n",
      "(led)            4.0\n",
      "(max             2.0\n",
      "dtype: float64\n"
     ]
    }
   ],
   "source": [
    "violation_desc = violations['VIOLATION_DESC'].astype(str)\n",
    "violation_desc = violation_desc.str.lower()\n",
    "\n",
    "violation_desc_count = violation_desc.apply(lambda x: pd.value_counts(x.split(\" \"))).sum(axis = 0)\n",
    "#print(violatioin_desc)\n",
    "print(violatioin_desc_count.head(10))"
   ]
  },
  {
   "cell_type": "code",
   "execution_count": 34,
   "metadata": {
    "scrolled": true
   },
   "outputs": [
    {
     "name": "stdout",
     "output_type": "stream",
     "text": [
      "the        1600.0\n",
      "or         1262.0\n",
      "of         1085.0\n",
      "and         837.0\n",
      "a           758.0\n",
      "to          735.0\n",
      "shall       729.0\n",
      "be          648.0\n",
      "in          570.0\n",
      "section     464.0\n",
      "dtype: float64\n"
     ]
    }
   ],
   "source": [
    "violation_text = violations['VIOLATION_TEXT'].astype(str)\n",
    "violation_text = violation_text.str.lower()\n"
   ]
  },
  {
   "cell_type": "code",
   "execution_count": 41,
   "metadata": {},
   "outputs": [
    {
     "name": "stdout",
     "output_type": "stream",
     "text": [
      "          word  count  length\n",
      "6        shall  729.0       5\n",
      "9      section  464.0       7\n",
      "14        beer  261.0       4\n",
      "16      permit  251.0       6\n",
      "22       other  169.0       5\n",
      "23        such  162.0       4\n",
      "24        from  162.0       4\n",
      "26        with  155.0       4\n",
      "28        that  145.0       4\n",
      "29      person  137.0       6\n",
      "31    premises  126.0       8\n",
      "32      public  113.0       6\n",
      "35        than  103.0       4\n",
      "36    building  102.0       8\n",
      "37  maintained  101.0      10\n",
      "38        this  101.0       4\n",
      "39      within   99.0       6\n",
      "41       every   95.0       5\n",
      "42    property   94.0       8\n",
      "43       which   91.0       5\n"
     ]
    }
   ],
   "source": [
    "violation_text_count = violation_text.apply(lambda x: pd.value_counts(x.split(\" \"))).sum(axis = 0)\n",
    "#print(violatioin_text)\n",
    "#print(violation_text_count.head(10))\n",
    "\n",
    "v_count = violation_text_count_sort.reset_index()\n",
    "v_count.columns = ['word','count']\n",
    "\n",
    "v_count['length'] = v_count.word.str.len()\n",
    "v_count_bool = v_count['length'] > 3\n",
    "v_count_count = v_count[v_count_bool == True]\n",
    "v_count_count.reset_index()\n",
    "\n",
    "v_count_count = v_count_count.sort_values('count',ascending=False)\n",
    "\n",
    "print(v_count_count.head(20))"
   ]
  },
  {
   "cell_type": "code",
   "execution_count": null,
   "metadata": {
    "collapsed": true
   },
   "outputs": [],
   "source": []
  },
  {
   "cell_type": "code",
   "execution_count": null,
   "metadata": {
    "collapsed": true
   },
   "outputs": [],
   "source": []
  }
 ],
 "metadata": {
  "kernelspec": {
   "display_name": "Python 3",
   "language": "python",
   "name": "python3"
  },
  "language_info": {
   "codemirror_mode": {
    "name": "ipython",
    "version": 3
   },
   "file_extension": ".py",
   "mimetype": "text/x-python",
   "name": "python",
   "nbconvert_exporter": "python",
   "pygments_lexer": "ipython3",
   "version": "3.6.3"
  }
 },
 "nbformat": 4,
 "nbformat_minor": 2
}
