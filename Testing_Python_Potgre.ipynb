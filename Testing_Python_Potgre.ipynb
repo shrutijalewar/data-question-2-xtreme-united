{
 "cells": [
  {
   "cell_type": "code",
   "execution_count": 2,
   "metadata": {
    "collapsed": true
   },
   "outputs": [],
   "source": [
    "import pandas as pd\n",
    "import matplotlib as mpl\n",
    "import numpy as np\n",
    "import matplotlib.pyplot as plt\n",
    "import psycopg2 as ps"
   ]
  },
  {
   "cell_type": "code",
   "execution_count": 3,
   "metadata": {
    "collapsed": true,
    "scrolled": true
   },
   "outputs": [],
   "source": [
    "# List Variable\n",
    "menu = {\"steak\":15.95,\"chicken\":8.50,\"salad\":10.00}\n",
    "\n"
   ]
  },
  {
   "cell_type": "code",
   "execution_count": 4,
   "metadata": {},
   "outputs": [
    {
     "name": "stdout",
     "output_type": "stream",
     "text": [
      "{'steak': 15.95, 'chicken': 8.5, 'salad': 10.0}\n"
     ]
    }
   ],
   "source": [
    "print(menu)"
   ]
  },
  {
   "cell_type": "code",
   "execution_count": 5,
   "metadata": {},
   "outputs": [
    {
     "data": {
      "text/plain": [
       "25.95"
      ]
     },
     "execution_count": 5,
     "metadata": {},
     "output_type": "execute_result"
    }
   ],
   "source": [
    "menu[\"salad\"] + menu[\"steak\"]\n"
   ]
  },
  {
   "cell_type": "code",
   "execution_count": 6,
   "metadata": {
    "collapsed": true
   },
   "outputs": [],
   "source": [
    "# update value\n",
    "menu[\"soup\"] =8.25"
   ]
  },
  {
   "cell_type": "code",
   "execution_count": 7,
   "metadata": {},
   "outputs": [
    {
     "name": "stdout",
     "output_type": "stream",
     "text": [
      "{'steak': 15.95, 'chicken': 8.5, 'salad': 10.0, 'soup': 8.25}\n"
     ]
    }
   ],
   "source": [
    "print(menu)"
   ]
  },
  {
   "cell_type": "code",
   "execution_count": 8,
   "metadata": {
    "collapsed": true
   },
   "outputs": [],
   "source": [
    "# delete key\n",
    "del menu[\"soup\"]"
   ]
  },
  {
   "cell_type": "code",
   "execution_count": 9,
   "metadata": {},
   "outputs": [
    {
     "name": "stdout",
     "output_type": "stream",
     "text": [
      "{'steak': 15.95, 'chicken': 8.5, 'salad': 10.0}\n"
     ]
    }
   ],
   "source": [
    "print(menu)"
   ]
  },
  {
   "cell_type": "code",
   "execution_count": 10,
   "metadata": {
    "collapsed": true
   },
   "outputs": [],
   "source": [
    "menu[\"chicken\"] = 6.95"
   ]
  },
  {
   "cell_type": "code",
   "execution_count": 11,
   "metadata": {},
   "outputs": [
    {
     "name": "stdout",
     "output_type": "stream",
     "text": [
      "{'steak': 15.95, 'chicken': 6.95, 'salad': 10.0}\n"
     ]
    }
   ],
   "source": [
    "print(menu)"
   ]
  },
  {
   "cell_type": "code",
   "execution_count": 12,
   "metadata": {},
   "outputs": [
    {
     "data": {
      "text/plain": [
       "dict"
      ]
     },
     "execution_count": 12,
     "metadata": {},
     "output_type": "execute_result"
    }
   ],
   "source": [
    "#Find Type of variable\n",
    "type(menu)"
   ]
  },
  {
   "cell_type": "code",
   "execution_count": 13,
   "metadata": {
    "collapsed": true
   },
   "outputs": [],
   "source": [
    "# create a dictionary\n",
    "menu = {'steak':15.95,\"chicken\":8.50,\"salad\":10.00}"
   ]
  },
  {
   "cell_type": "code",
   "execution_count": 14,
   "metadata": {},
   "outputs": [
    {
     "name": "stdout",
     "output_type": "stream",
     "text": [
      "{'steak': 15.95, 'chicken': 8.5, 'salad': 10.0}\n"
     ]
    }
   ],
   "source": [
    "print(menu)"
   ]
  },
  {
   "cell_type": "code",
   "execution_count": 15,
   "metadata": {},
   "outputs": [
    {
     "name": "stdout",
     "output_type": "stream",
     "text": [
      "7\n"
     ]
    }
   ],
   "source": [
    "x = 5\n",
    "x +=2\n",
    "print(x)\n"
   ]
  },
  {
   "cell_type": "code",
   "execution_count": 16,
   "metadata": {},
   "outputs": [
    {
     "data": {
      "text/plain": [
       "True"
      ]
     },
     "execution_count": 16,
     "metadata": {},
     "output_type": "execute_result"
    }
   ],
   "source": [
    "5==5"
   ]
  },
  {
   "cell_type": "code",
   "execution_count": 17,
   "metadata": {},
   "outputs": [
    {
     "data": {
      "text/plain": [
       "False"
      ]
     },
     "execution_count": 17,
     "metadata": {},
     "output_type": "execute_result"
    }
   ],
   "source": [
    "5!=5"
   ]
  },
  {
   "cell_type": "code",
   "execution_count": 18,
   "metadata": {},
   "outputs": [
    {
     "data": {
      "text/plain": [
       "False"
      ]
     },
     "execution_count": 18,
     "metadata": {},
     "output_type": "execute_result"
    }
   ],
   "source": [
    "1>6"
   ]
  },
  {
   "cell_type": "code",
   "execution_count": 19,
   "metadata": {},
   "outputs": [
    {
     "data": {
      "text/plain": [
       "True"
      ]
     },
     "execution_count": 19,
     "metadata": {},
     "output_type": "execute_result"
    }
   ],
   "source": [
    "len('hello') > 4"
   ]
  },
  {
   "cell_type": "code",
   "execution_count": 20,
   "metadata": {},
   "outputs": [
    {
     "name": "stdout",
     "output_type": "stream",
     "text": [
      "what is your nameclaude\n"
     ]
    }
   ],
   "source": [
    "name = input('what is your name')"
   ]
  },
  {
   "cell_type": "code",
   "execution_count": 21,
   "metadata": {},
   "outputs": [
    {
     "name": "stdout",
     "output_type": "stream",
     "text": [
      "claude\n"
     ]
    }
   ],
   "source": [
    "print(name)"
   ]
  },
  {
   "cell_type": "code",
   "execution_count": 22,
   "metadata": {},
   "outputs": [
    {
     "data": {
      "text/plain": [
       "[10, 20, 30, 40, 50, 60, 70, 80, 90, 100]"
      ]
     },
     "execution_count": 22,
     "metadata": {},
     "output_type": "execute_result"
    }
   ],
   "source": [
    "list(range(10,101,10))"
   ]
  },
  {
   "cell_type": "code",
   "execution_count": 23,
   "metadata": {},
   "outputs": [
    {
     "name": "stdout",
     "output_type": "stream",
     "text": [
      "pi =  3.14 age 32\n"
     ]
    }
   ],
   "source": [
    "# Print Fuction\n",
    "pi = 3.14\n",
    "b = 'age'\n",
    "c = 32\n",
    "print('pi = ',pi,b,c,)"
   ]
  },
  {
   "cell_type": "code",
   "execution_count": 24,
   "metadata": {},
   "outputs": [
    {
     "data": {
      "text/plain": [
       "90"
      ]
     },
     "execution_count": 24,
     "metadata": {},
     "output_type": "execute_result"
    }
   ],
   "source": [
    "max(5,80,90,50)"
   ]
  },
  {
   "cell_type": "code",
   "execution_count": 25,
   "metadata": {},
   "outputs": [
    {
     "data": {
      "text/plain": [
       "3.0"
      ]
     },
     "execution_count": 25,
     "metadata": {},
     "output_type": "execute_result"
    }
   ],
   "source": [
    "round(np.mean([1,3,6]),0)"
   ]
  },
  {
   "cell_type": "code",
   "execution_count": 26,
   "metadata": {},
   "outputs": [
    {
     "name": "stdout",
     "output_type": "stream",
     "text": [
      "Nationality? venezuelan\n",
      "prefiere hablar espanol?\n"
     ]
    }
   ],
   "source": [
    "person = input(\"Nationality? \")\n",
    "if person == \"french\":\n",
    "    print(\"Préférez-vous parler français?\")\n",
    "if person == \"american\":\n",
    "    print('do you prefer to speak english?')\n",
    "else:\n",
    "    print('prefiere hablar espanol?')"
   ]
  },
  {
   "cell_type": "code",
   "execution_count": 27,
   "metadata": {
    "collapsed": true
   },
   "outputs": [],
   "source": [
    "pizza = ['cheese','peperoni','jam','vegestables']"
   ]
  },
  {
   "cell_type": "code",
   "execution_count": 28,
   "metadata": {},
   "outputs": [
    {
     "name": "stdout",
     "output_type": "stream",
     "text": [
      "bad news cheese is unavailable\n",
      "good news peperoni is available\n",
      "good news jam is available\n",
      "good news vegestables is available\n"
     ]
    }
   ],
   "source": [
    "for choice in pizza:\n",
    "    if choice == 'cheese':\n",
    "        print('bad news ' + choice +' is unavailable')\n",
    "    else:\n",
    "        print('good news ' + choice +' is available')"
   ]
  },
  {
   "cell_type": "code",
   "execution_count": 29,
   "metadata": {},
   "outputs": [
    {
     "data": {
      "text/plain": [
       "4"
      ]
     },
     "execution_count": 29,
     "metadata": {},
     "output_type": "execute_result"
    }
   ],
   "source": [
    "len(pizza)\n",
    "    "
   ]
  },
  {
   "cell_type": "code",
   "execution_count": 30,
   "metadata": {},
   "outputs": [
    {
     "name": "stdout",
     "output_type": "stream",
     "text": [
      "0\n",
      "1\n",
      "2\n",
      "3\n",
      "done\n"
     ]
    }
   ],
   "source": [
    "counter = 0\n",
    "while counter < len(pizza) :\n",
    "    print(counter)\n",
    "    counter += 1\n",
    "else:\n",
    "    print('done')"
   ]
  },
  {
   "cell_type": "code",
   "execution_count": 31,
   "metadata": {},
   "outputs": [
    {
     "name": "stdout",
     "output_type": "stream",
     "text": [
      "(18.75, 2)\n",
      "(18.0, 2)\n"
     ]
    }
   ],
   "source": [
    "def tip_calculator(x,y):\n",
    "    return((x *(y/100),2))\n",
    "\n",
    "\n",
    "var1 = tip_calculator(125,15)\n",
    "var2 = tip_calculator(90,20)\n",
    "print(var1)\n",
    "print(var2)\n"
   ]
  },
  {
   "cell_type": "code",
   "execution_count": 48,
   "metadata": {},
   "outputs": [
    {
     "name": "stdout",
     "output_type": "stream",
     "text": [
      "Opened database successfully\n",
      "request_no =  17-1156755\n",
      "date_recv =  2017-05-04\n",
      "prop_apn =  05814005400\n",
      "prop_address =  121  QUEENS LN\n",
      "violation_desc =  VIOLATION_DESC\n",
      "violation_text =  VIOLATION_TEXT\n",
      "violation_desc =  Banners\n",
      "violation_text =  Section 17.32.060 & 17.32.070 -  Banners: Banners may be used as temporary on-premises signs with proper permits. All permanent on-premises signs shall be constructed of rigid materials. \n",
      "violation_desc =  Proper Maintenance Req - Owner\n",
      "violation_text =  \"Section 16.16.030 (B) - Proper maintenance required - Owner's responsibility - .   All devices, equipment and safeguards required by this chapter shall be installed and properly maintained in a safe and clean manner and in good working order. The owner, or his designated agent, shall be held responsible for the proper maintenance of all gas/mechanical installations and gas/mechanical systems.\"\n",
      "Operation done successfully\n"
     ]
    }
   ],
   "source": [
    "import psycopg2\n",
    "\n",
    "conn = psycopg2.connect(database=\"nashville\", user = \"postgres\", password = \"Dg033018\", host = \"127.0.0.1\", port = \"5432\")\n",
    "\n",
    "print (\"Opened database successfully\")\n",
    "cur_sv = conn.cursor()\n",
    "cur_sv.execute('select * from public.property_standards_violations LIMIT 1;')\n",
    "rows = cur_sv.fetchall()\n",
    "\n",
    "for row in rows:\n",
    "    print('request_no = ',row[0])\n",
    "    print('date_recv = ',row[1])\n",
    "    print('prop_apn = ',row[2])\n",
    "    print('prop_address = ',row[3])\n",
    "\n",
    "\n",
    " \n",
    "cur_lv = conn.cursor()\n",
    "cur_lv.execute('select * from public.codes_list_of_violations LIMIT 3;')        \n",
    "rows2 = cur_lv.fetchall()\n",
    "for row in rows2:\n",
    "    print('violation_desc = ',row[3])\n",
    "    print('violation_text = ',row[4])\n",
    "conn.close()\n",
    "\n",
    "print ('Operation done successfully')\n"
   ]
  },
  {
   "cell_type": "code",
   "execution_count": 43,
   "metadata": {},
   "outputs": [
    {
     "data": {
      "text/plain": [
       "13"
      ]
     },
     "execution_count": 43,
     "metadata": {},
     "output_type": "execute_result"
    }
   ],
   "source": [
    "5+8"
   ]
  },
  {
   "cell_type": "code",
   "execution_count": null,
   "metadata": {
    "collapsed": true
   },
   "outputs": [],
   "source": []
  }
 ],
 "metadata": {
  "kernelspec": {
   "display_name": "Python 3",
   "language": "python",
   "name": "python3"
  },
  "language_info": {
   "codemirror_mode": {
    "name": "ipython",
    "version": 3
   },
   "file_extension": ".py",
   "mimetype": "text/x-python",
   "name": "python",
   "nbconvert_exporter": "python",
   "pygments_lexer": "ipython3",
   "version": "3.6.3"
  }
 },
 "nbformat": 4,
 "nbformat_minor": 2
}
