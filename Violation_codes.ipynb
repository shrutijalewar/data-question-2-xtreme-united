{
 "cells": [
  {
   "cell_type": "code",
   "execution_count": 1,
   "metadata": {
    "collapsed": true
   },
   "outputs": [],
   "source": [
    "import pandas as pd \n",
    "import numpy as np \n",
    "import matplotlib.pyplot as plt\n",
    "import seaborn as sns"
   ]
  },
  {
   "cell_type": "markdown",
   "metadata": {},
   "source": [
    "# Read data\n",
    "### Overview"
   ]
  },
  {
   "cell_type": "code",
   "execution_count": 2,
   "metadata": {},
   "outputs": [
    {
     "data": {
      "text/html": [
       "<div>\n",
       "<style>\n",
       "    .dataframe thead tr:only-child th {\n",
       "        text-align: right;\n",
       "    }\n",
       "\n",
       "    .dataframe thead th {\n",
       "        text-align: left;\n",
       "    }\n",
       "\n",
       "    .dataframe tbody tr th {\n",
       "        vertical-align: top;\n",
       "    }\n",
       "</style>\n",
       "<table border=\"1\" class=\"dataframe\">\n",
       "  <thead>\n",
       "    <tr style=\"text-align: right;\">\n",
       "      <th></th>\n",
       "      <th>VIOLATION_ID</th>\n",
       "      <th>ORG_ID</th>\n",
       "      <th>VIOLATION_TYPE</th>\n",
       "      <th>VIOLATION_DESC</th>\n",
       "      <th>VIOLATION_TEXT</th>\n",
       "      <th>REMEDIAL_TEXT</th>\n",
       "      <th>TABLE_NAME</th>\n",
       "      <th>EXPIRED_FLAG</th>\n",
       "      <th>DATE_EXPIRED</th>\n",
       "      <th>CREATED_BY</th>\n",
       "      <th>DATE_CREATED</th>\n",
       "      <th>MODIFIED_BY</th>\n",
       "      <th>DATE_MODIFIED</th>\n",
       "      <th>FEE_SETUP_ID</th>\n",
       "      <th>Unnamed: 14</th>\n",
       "    </tr>\n",
       "  </thead>\n",
       "  <tbody>\n",
       "    <tr>\n",
       "      <th>0</th>\n",
       "      <td>1</td>\n",
       "      <td>1</td>\n",
       "      <td>BANNERS</td>\n",
       "      <td>Banners</td>\n",
       "      <td>Section 17.32.060 &amp; 17.32.070 -  Banners: Bann...</td>\n",
       "      <td>CAAZ_BANNERS</td>\n",
       "      <td>NaT</td>\n",
       "      <td>N</td>\n",
       "      <td>NaN</td>\n",
       "      <td>1.0</td>\n",
       "      <td>2014-07-09 08:03:52.640000</td>\n",
       "      <td>NaN</td>\n",
       "      <td>NaT</td>\n",
       "      <td>NaN</td>\n",
       "      <td>NaN</td>\n",
       "    </tr>\n",
       "    <tr>\n",
       "      <th>1</th>\n",
       "      <td>2</td>\n",
       "      <td>1</td>\n",
       "      <td>BGMATOWNER</td>\n",
       "      <td>Proper Maintenance Req - Owner</td>\n",
       "      <td>Section 16.16.030 (B) - Proper maintenance req...</td>\n",
       "      <td>CAAH_BG_MATOWNER</td>\n",
       "      <td>NaT</td>\n",
       "      <td>N</td>\n",
       "      <td>NaN</td>\n",
       "      <td>1.0</td>\n",
       "      <td>2014-07-09 08:03:52.640000</td>\n",
       "      <td>NaN</td>\n",
       "      <td>NaT</td>\n",
       "      <td>NaN</td>\n",
       "      <td>NaN</td>\n",
       "    </tr>\n",
       "    <tr>\n",
       "      <th>2</th>\n",
       "      <td>4</td>\n",
       "      <td>1</td>\n",
       "      <td>BLDGMAINT</td>\n",
       "      <td>Proper Maintenance Req</td>\n",
       "      <td>Section 16.16.030 (A) - Proper maintenance req...</td>\n",
       "      <td>CAAH_BLDG_MAINT</td>\n",
       "      <td>NaT</td>\n",
       "      <td>N</td>\n",
       "      <td>NaN</td>\n",
       "      <td>1.0</td>\n",
       "      <td>2014-07-09 08:03:52.640000</td>\n",
       "      <td>NaN</td>\n",
       "      <td>NaT</td>\n",
       "      <td>NaN</td>\n",
       "      <td>NaN</td>\n",
       "    </tr>\n",
       "    <tr>\n",
       "      <th>3</th>\n",
       "      <td>5</td>\n",
       "      <td>1</td>\n",
       "      <td>BLDGPERMIT</td>\n",
       "      <td>Building Permit Required</td>\n",
       "      <td>Section 16.28.010 - Building Permit Required: ...</td>\n",
       "      <td>CAAB_BLDG_PERMIT</td>\n",
       "      <td>NaT</td>\n",
       "      <td>N</td>\n",
       "      <td>NaN</td>\n",
       "      <td>1.0</td>\n",
       "      <td>2014-07-09 08:03:52.640000</td>\n",
       "      <td>NaN</td>\n",
       "      <td>NaT</td>\n",
       "      <td>NaN</td>\n",
       "      <td>NaN</td>\n",
       "    </tr>\n",
       "    <tr>\n",
       "      <th>4</th>\n",
       "      <td>6</td>\n",
       "      <td>1</td>\n",
       "      <td>BLDGSCOPE</td>\n",
       "      <td>Scope of Building Code</td>\n",
       "      <td>Section 16.16.020 (B) - The provisions of this...</td>\n",
       "      <td>CAAH_BLDG_SCOPE</td>\n",
       "      <td>NaT</td>\n",
       "      <td>N</td>\n",
       "      <td>NaN</td>\n",
       "      <td>1.0</td>\n",
       "      <td>2014-07-09 08:03:52.640000</td>\n",
       "      <td>NaN</td>\n",
       "      <td>NaT</td>\n",
       "      <td>NaN</td>\n",
       "      <td>NaN</td>\n",
       "    </tr>\n",
       "    <tr>\n",
       "      <th>5</th>\n",
       "      <td>7</td>\n",
       "      <td>1</td>\n",
       "      <td>BOARDINGRQ</td>\n",
       "      <td>Boarding Requirements</td>\n",
       "      <td>Section 16.24.340 (U) (2) – Boarding of Vacant...</td>\n",
       "      <td>CAAH_BOARDING_REQU</td>\n",
       "      <td>NaT</td>\n",
       "      <td>N</td>\n",
       "      <td>NaN</td>\n",
       "      <td>1.0</td>\n",
       "      <td>2014-07-09 08:03:52.640000</td>\n",
       "      <td>NaN</td>\n",
       "      <td>NaT</td>\n",
       "      <td>NaN</td>\n",
       "      <td>NaN</td>\n",
       "    </tr>\n",
       "    <tr>\n",
       "      <th>6</th>\n",
       "      <td>8</td>\n",
       "      <td>1</td>\n",
       "      <td>BOARDVAC</td>\n",
       "      <td>Boarding of Vacant Buildings</td>\n",
       "      <td>Section 16.24.340 (U) (1) – Boarding of Vacant...</td>\n",
       "      <td>CAAH_BOARDING_VABLDG</td>\n",
       "      <td>NaT</td>\n",
       "      <td>N</td>\n",
       "      <td>NaN</td>\n",
       "      <td>1.0</td>\n",
       "      <td>2014-07-09 08:03:52.640000</td>\n",
       "      <td>NaN</td>\n",
       "      <td>NaT</td>\n",
       "      <td>NaN</td>\n",
       "      <td>NaN</td>\n",
       "    </tr>\n",
       "    <tr>\n",
       "      <th>7</th>\n",
       "      <td>9</td>\n",
       "      <td>1</td>\n",
       "      <td>CARROW</td>\n",
       "      <td>Vehicle In The Right-Of-Way</td>\n",
       "      <td>Section 12.08.210 - Abandoned Vehicles: Abando...</td>\n",
       "      <td>CAMCL_SEW_CONCT</td>\n",
       "      <td>NaT</td>\n",
       "      <td>N</td>\n",
       "      <td>NaN</td>\n",
       "      <td>1.0</td>\n",
       "      <td>2014-07-09 08:03:52.640000</td>\n",
       "      <td>NaN</td>\n",
       "      <td>NaT</td>\n",
       "      <td>NaN</td>\n",
       "      <td>NaN</td>\n",
       "    </tr>\n",
       "    <tr>\n",
       "      <th>8</th>\n",
       "      <td>10</td>\n",
       "      <td>1</td>\n",
       "      <td>CERTCOMP</td>\n",
       "      <td>Certificate of Compliance Required</td>\n",
       "      <td>Section 17.40.580 - Certificate of Compliance:...</td>\n",
       "      <td>CAAZ_CERT_COMP</td>\n",
       "      <td>NaT</td>\n",
       "      <td>N</td>\n",
       "      <td>NaN</td>\n",
       "      <td>1.0</td>\n",
       "      <td>2014-07-09 08:03:52.640000</td>\n",
       "      <td>NaN</td>\n",
       "      <td>NaT</td>\n",
       "      <td>NaN</td>\n",
       "      <td>NaN</td>\n",
       "    </tr>\n",
       "    <tr>\n",
       "      <th>9</th>\n",
       "      <td>11</td>\n",
       "      <td>1</td>\n",
       "      <td>CERTOCC</td>\n",
       "      <td>Certificate of Occupancy Required</td>\n",
       "      <td>Section 16.24.130 – Certificate of Occupancy R...</td>\n",
       "      <td>CAAH_CERT_OCC</td>\n",
       "      <td>NaT</td>\n",
       "      <td>N</td>\n",
       "      <td>NaN</td>\n",
       "      <td>1.0</td>\n",
       "      <td>2014-07-09 08:03:52.640000</td>\n",
       "      <td>NaN</td>\n",
       "      <td>NaT</td>\n",
       "      <td>NaN</td>\n",
       "      <td>NaN</td>\n",
       "    </tr>\n",
       "  </tbody>\n",
       "</table>\n",
       "</div>"
      ],
      "text/plain": [
       "  VIOLATION_ID ORG_ID VIOLATION_TYPE                      VIOLATION_DESC  \\\n",
       "0            1      1        BANNERS                             Banners   \n",
       "1            2      1     BGMATOWNER      Proper Maintenance Req - Owner   \n",
       "2            4      1      BLDGMAINT              Proper Maintenance Req   \n",
       "3            5      1     BLDGPERMIT            Building Permit Required   \n",
       "4            6      1      BLDGSCOPE              Scope of Building Code   \n",
       "5            7      1     BOARDINGRQ               Boarding Requirements   \n",
       "6            8      1       BOARDVAC        Boarding of Vacant Buildings   \n",
       "7            9      1         CARROW         Vehicle In The Right-Of-Way   \n",
       "8           10      1       CERTCOMP  Certificate of Compliance Required   \n",
       "9           11      1        CERTOCC   Certificate of Occupancy Required   \n",
       "\n",
       "                                      VIOLATION_TEXT         REMEDIAL_TEXT  \\\n",
       "0  Section 17.32.060 & 17.32.070 -  Banners: Bann...          CAAZ_BANNERS   \n",
       "1  Section 16.16.030 (B) - Proper maintenance req...      CAAH_BG_MATOWNER   \n",
       "2  Section 16.16.030 (A) - Proper maintenance req...       CAAH_BLDG_MAINT   \n",
       "3  Section 16.28.010 - Building Permit Required: ...      CAAB_BLDG_PERMIT   \n",
       "4  Section 16.16.020 (B) - The provisions of this...       CAAH_BLDG_SCOPE   \n",
       "5  Section 16.24.340 (U) (2) – Boarding of Vacant...    CAAH_BOARDING_REQU   \n",
       "6  Section 16.24.340 (U) (1) – Boarding of Vacant...  CAAH_BOARDING_VABLDG   \n",
       "7  Section 12.08.210 - Abandoned Vehicles: Abando...       CAMCL_SEW_CONCT   \n",
       "8  Section 17.40.580 - Certificate of Compliance:...        CAAZ_CERT_COMP   \n",
       "9  Section 16.24.130 – Certificate of Occupancy R...         CAAH_CERT_OCC   \n",
       "\n",
       "  TABLE_NAME EXPIRED_FLAG DATE_EXPIRED  CREATED_BY  \\\n",
       "0        NaT            N          NaN         1.0   \n",
       "1        NaT            N          NaN         1.0   \n",
       "2        NaT            N          NaN         1.0   \n",
       "3        NaT            N          NaN         1.0   \n",
       "4        NaT            N          NaN         1.0   \n",
       "5        NaT            N          NaN         1.0   \n",
       "6        NaT            N          NaN         1.0   \n",
       "7        NaT            N          NaN         1.0   \n",
       "8        NaT            N          NaN         1.0   \n",
       "9        NaT            N          NaN         1.0   \n",
       "\n",
       "                 DATE_CREATED MODIFIED_BY DATE_MODIFIED  FEE_SETUP_ID  \\\n",
       "0  2014-07-09 08:03:52.640000         NaN           NaT           NaN   \n",
       "1  2014-07-09 08:03:52.640000         NaN           NaT           NaN   \n",
       "2  2014-07-09 08:03:52.640000         NaN           NaT           NaN   \n",
       "3  2014-07-09 08:03:52.640000         NaN           NaT           NaN   \n",
       "4  2014-07-09 08:03:52.640000         NaN           NaT           NaN   \n",
       "5  2014-07-09 08:03:52.640000         NaN           NaT           NaN   \n",
       "6  2014-07-09 08:03:52.640000         NaN           NaT           NaN   \n",
       "7  2014-07-09 08:03:52.640000         NaN           NaT           NaN   \n",
       "8  2014-07-09 08:03:52.640000         NaN           NaT           NaN   \n",
       "9  2014-07-09 08:03:52.640000         NaN           NaT           NaN   \n",
       "\n",
       "   Unnamed: 14  \n",
       "0          NaN  \n",
       "1          NaN  \n",
       "2          NaN  \n",
       "3          NaN  \n",
       "4          NaN  \n",
       "5          NaN  \n",
       "6          NaN  \n",
       "7          NaN  \n",
       "8          NaN  \n",
       "9          NaN  "
      ]
     },
     "execution_count": 2,
     "metadata": {},
     "output_type": "execute_result"
    }
   ],
   "source": [
    "violation_xl=pd.read_excel ('/Users/ghfmhf/git/data-question-2-xtreme-united/Codes_List_of_Violations_15_aug_2017.xlsx')\n",
    "violation_xl.head(10)"
   ]
  },
  {
   "cell_type": "code",
   "execution_count": 3,
   "metadata": {},
   "outputs": [
    {
     "name": "stdout",
     "output_type": "stream",
     "text": [
      "<class 'pandas.core.frame.DataFrame'>\n",
      "RangeIndex: 934 entries, 0 to 933\n",
      "Data columns (total 15 columns):\n",
      "VIOLATION_ID      928 non-null object\n",
      "ORG_ID            789 non-null object\n",
      "VIOLATION_TYPE    788 non-null object\n",
      "VIOLATION_DESC    925 non-null object\n",
      "VIOLATION_TEXT    666 non-null object\n",
      "REMEDIAL_TEXT     345 non-null object\n",
      "TABLE_NAME        137 non-null datetime64[ns]\n",
      "EXPIRED_FLAG      651 non-null object\n",
      "DATE_EXPIRED      2 non-null object\n",
      "CREATED_BY        650 non-null float64\n",
      "DATE_CREATED      651 non-null object\n",
      "MODIFIED_BY       23 non-null object\n",
      "DATE_MODIFIED     22 non-null datetime64[ns]\n",
      "FEE_SETUP_ID      0 non-null float64\n",
      "Unnamed: 14       0 non-null float64\n",
      "dtypes: datetime64[ns](2), float64(3), object(10)\n",
      "memory usage: 109.5+ KB\n"
     ]
    }
   ],
   "source": [
    "violation_xl.info()"
   ]
  },
  {
   "cell_type": "code",
   "execution_count": 4,
   "metadata": {},
   "outputs": [
    {
     "data": {
      "text/plain": [
       "(934, 15)"
      ]
     },
     "execution_count": 4,
     "metadata": {},
     "output_type": "execute_result"
    }
   ],
   "source": [
    "violation_xl.shape"
   ]
  },
  {
   "cell_type": "markdown",
   "metadata": {},
   "source": [
    "# Next step should be repairing the split cells"
   ]
  },
  {
   "cell_type": "code",
   "execution_count": 11,
   "metadata": {},
   "outputs": [
    {
     "data": {
      "text/plain": [
       "0     1\n",
       "1     2\n",
       "2     4\n",
       "3     5\n",
       "4     6\n",
       "5     7\n",
       "6     8\n",
       "7     9\n",
       "8    10\n",
       "9    11\n",
       "Name: VIOLATION_ID, dtype: object"
      ]
     },
     "execution_count": 11,
     "metadata": {},
     "output_type": "execute_result"
    }
   ],
   "source": [
    "violation_xl['VIOLATION_ID'].head(10)"
   ]
  },
  {
   "cell_type": "code",
   "execution_count": null,
   "metadata": {
    "collapsed": true
   },
   "outputs": [],
   "source": []
  },
  {
   "cell_type": "code",
   "execution_count": null,
   "metadata": {
    "collapsed": true
   },
   "outputs": [],
   "source": []
  },
  {
   "cell_type": "markdown",
   "metadata": {},
   "source": [
    "# Remove the =- from begining of scripts"
   ]
  },
  {
   "cell_type": "code",
   "execution_count": null,
   "metadata": {
    "collapsed": true
   },
   "outputs": [],
   "source": []
  },
  {
   "cell_type": "markdown",
   "metadata": {},
   "source": [
    "# Drop unwanted columns"
   ]
  },
  {
   "cell_type": "code",
   "execution_count": null,
   "metadata": {
    "collapsed": true
   },
   "outputs": [],
   "source": []
  }
 ],
 "metadata": {
  "kernelspec": {
   "display_name": "Python 3",
   "language": "python",
   "name": "python3"
  },
  "language_info": {
   "codemirror_mode": {
    "name": "ipython",
    "version": 3
   },
   "file_extension": ".py",
   "mimetype": "text/x-python",
   "name": "python",
   "nbconvert_exporter": "python",
   "pygments_lexer": "ipython3",
   "version": "3.6.2"
  }
 },
 "nbformat": 4,
 "nbformat_minor": 2
}
